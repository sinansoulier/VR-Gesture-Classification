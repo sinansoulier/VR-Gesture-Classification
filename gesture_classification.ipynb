{
 "cells": [
  {
   "cell_type": "markdown",
   "metadata": {},
   "source": [
    "# VR - Motion recognition with simple gestures"
   ]
  },
  {
   "cell_type": "code",
   "execution_count": 1,
   "metadata": {},
   "outputs": [],
   "source": [
    "import time\n",
    "start_time = time.time()"
   ]
  },
  {
   "cell_type": "markdown",
   "metadata": {},
   "source": [
    "## Libraries\n",
    "* Numpy\n",
    "* Pandas\n",
    "* Matplotlib\n",
    "* PyTorch"
   ]
  },
  {
   "cell_type": "code",
   "execution_count": 2,
   "metadata": {},
   "outputs": [],
   "source": [
    "import os\n",
    "import numpy as np\n",
    "import pandas as pd\n",
    "import matplotlib.pyplot as plt\n",
    "\n",
    "from sklearn.model_selection import KFold\n",
    "from sklearn.ensemble import RandomForestClassifier\n",
    "from sklearn.tree import DecisionTreeClassifier\n",
    "from sklearn.model_selection import train_test_split, cross_val_score, LearningCurveDisplay, ShuffleSplit\n",
    "from sklearn.metrics import confusion_matrix, classification_report\n",
    "\n",
    "from xgboost import XGBClassifier\n",
    "\n",
    "import torch\n",
    "import torch.nn as nn\n",
    "import torch.onnx\n",
    "from torchsummary import summary"
   ]
  },
  {
   "cell_type": "markdown",
   "metadata": {},
   "source": [
    "## Importing scripts"
   ]
  },
  {
   "cell_type": "code",
   "execution_count": 3,
   "metadata": {},
   "outputs": [
    {
     "name": "stderr",
     "output_type": "stream",
     "text": [
      "/Users/francois.soulier/miniconda/envs/SCIA/lib/python3.10/site-packages/skl2onnx/algebra/onnx_ops.py:159: UserWarning: OpSchema.FormalParameter.typeStr is deprecated and will be removed in 1.16. Use OpSchema.FormalParameter.type_str instead.\n",
      "  tys = obj.typeStr or ''\n",
      "/Users/francois.soulier/miniconda/envs/SCIA/lib/python3.10/site-packages/skl2onnx/algebra/automation.py:154: UserWarning: OpSchema.FormalParameter.isHomogeneous is deprecated and will be removed in 1.16. Use OpSchema.FormalParameter.is_homogeneous instead.\n",
      "  if getattr(obj, 'isHomogeneous', False):\n",
      "/Users/francois.soulier/miniconda/envs/SCIA/lib/python3.10/site-packages/jinja2/environment.py:485: UserWarning: OpSchema.FormalParameter.typeStr is deprecated and will be removed in 1.16. Use OpSchema.FormalParameter.type_str instead.\n",
      "  return getattr(obj, attribute)\n"
     ]
    }
   ],
   "source": [
    "from utils.data import Data\n",
    "from utils.hardware import Hardware\n",
    "from utils.vr_gesture_recognizer import VRGestureRecognizer\n",
    "from utils.plot import Plot\n",
    "from utils.model_utils import ModelUtils"
   ]
  },
  {
   "cell_type": "markdown",
   "metadata": {},
   "source": [
    "## Loading data"
   ]
  },
  {
   "cell_type": "markdown",
   "metadata": {},
   "source": [
    "We first begin by loading all the data from the csv files. We retrieve **all the raw data** into **a single numpy array**. We retrieve the **labels** into **a separate array**."
   ]
  },
  {
   "cell_type": "code",
   "execution_count": 4,
   "metadata": {},
   "outputs": [
    {
     "name": "stdout",
     "output_type": "stream",
     "text": [
      "0 OUI\n",
      "1 NON\n",
      "2 VRAI\n",
      "3 FAUX\n",
      "Classes: ['OUI' 'NON' 'VRAI' 'FAUX']\n"
     ]
    }
   ],
   "source": [
    "# Define base data directory\n",
    "base_dir: str = os.path.join(os.getcwd(), 'data')\n",
    "\n",
    "# Load data\n",
    "tuple_data: tuple[list[pd.DataFrame], np.ndarray, np.ndarray] = Data.load_data(base_dir)\n",
    "\n",
    "# Unpack data\n",
    "pd_data: list[pd.DataFrame] = tuple_data[0]\n",
    "labels: np.ndarray = tuple_data[1]\n",
    "classes: np.ndarray = tuple_data[2]\n",
    "print(\"Classes:\", classes)"
   ]
  },
  {
   "cell_type": "markdown",
   "metadata": {},
   "source": [
    "### Example Data"
   ]
  },
  {
   "cell_type": "code",
   "execution_count": 5,
   "metadata": {},
   "outputs": [
    {
     "data": {
      "text/html": [
       "<div>\n",
       "<style scoped>\n",
       "    .dataframe tbody tr th:only-of-type {\n",
       "        vertical-align: middle;\n",
       "    }\n",
       "\n",
       "    .dataframe tbody tr th {\n",
       "        vertical-align: top;\n",
       "    }\n",
       "\n",
       "    .dataframe thead th {\n",
       "        text-align: right;\n",
       "    }\n",
       "</style>\n",
       "<table border=\"1\" class=\"dataframe\">\n",
       "  <thead>\n",
       "    <tr style=\"text-align: right;\">\n",
       "      <th></th>\n",
       "      <th>Head_pos_x</th>\n",
       "      <th>Head_pos_y</th>\n",
       "      <th>Head_pos_z</th>\n",
       "      <th>Head_rot_x</th>\n",
       "      <th>Head_rot_y</th>\n",
       "      <th>Head_rot_z</th>\n",
       "      <th>LeftHand_pos_x</th>\n",
       "      <th>LeftHand_pos_y</th>\n",
       "      <th>LeftHand_pos_z</th>\n",
       "      <th>LeftHand_rot_x</th>\n",
       "      <th>...</th>\n",
       "      <th>RightRing3_rot_z</th>\n",
       "      <th>RightThumb1_rot_x</th>\n",
       "      <th>RightThumb1_rot_y</th>\n",
       "      <th>RightThumb1_rot_z</th>\n",
       "      <th>RightThumb2_rot_x</th>\n",
       "      <th>RightThumb2_rot_y</th>\n",
       "      <th>RightThumb2_rot_z</th>\n",
       "      <th>RightThumb3_rot_x</th>\n",
       "      <th>RightThumb3_rot_y</th>\n",
       "      <th>RightThumb3_rot_z</th>\n",
       "    </tr>\n",
       "  </thead>\n",
       "  <tbody>\n",
       "    <tr>\n",
       "      <th>0</th>\n",
       "      <td>-0.005309</td>\n",
       "      <td>1.588150</td>\n",
       "      <td>0.004895</td>\n",
       "      <td>28.18738</td>\n",
       "      <td>357.7555</td>\n",
       "      <td>1.233561</td>\n",
       "      <td>-0.278133</td>\n",
       "      <td>0.810004</td>\n",
       "      <td>-0.108239</td>\n",
       "      <td>351.7242</td>\n",
       "      <td>...</td>\n",
       "      <td>350.1419</td>\n",
       "      <td>27.19806</td>\n",
       "      <td>341.7921</td>\n",
       "      <td>337.9047</td>\n",
       "      <td>353.1641</td>\n",
       "      <td>7.021258</td>\n",
       "      <td>315.9565</td>\n",
       "      <td>6.055505</td>\n",
       "      <td>354.4477</td>\n",
       "      <td>314.7976</td>\n",
       "    </tr>\n",
       "    <tr>\n",
       "      <th>1</th>\n",
       "      <td>-0.005352</td>\n",
       "      <td>1.588086</td>\n",
       "      <td>0.004848</td>\n",
       "      <td>28.18189</td>\n",
       "      <td>357.7465</td>\n",
       "      <td>1.248143</td>\n",
       "      <td>-0.278401</td>\n",
       "      <td>0.809932</td>\n",
       "      <td>-0.108324</td>\n",
       "      <td>351.7806</td>\n",
       "      <td>...</td>\n",
       "      <td>350.2690</td>\n",
       "      <td>27.18621</td>\n",
       "      <td>341.7753</td>\n",
       "      <td>337.8988</td>\n",
       "      <td>353.1659</td>\n",
       "      <td>7.019536</td>\n",
       "      <td>315.9209</td>\n",
       "      <td>6.055294</td>\n",
       "      <td>354.4479</td>\n",
       "      <td>314.7942</td>\n",
       "    </tr>\n",
       "    <tr>\n",
       "      <th>2</th>\n",
       "      <td>-0.005398</td>\n",
       "      <td>1.588020</td>\n",
       "      <td>0.004816</td>\n",
       "      <td>28.18045</td>\n",
       "      <td>357.7399</td>\n",
       "      <td>1.260971</td>\n",
       "      <td>-0.278663</td>\n",
       "      <td>0.809862</td>\n",
       "      <td>-0.108401</td>\n",
       "      <td>351.8357</td>\n",
       "      <td>...</td>\n",
       "      <td>350.3961</td>\n",
       "      <td>27.17978</td>\n",
       "      <td>341.8129</td>\n",
       "      <td>337.9211</td>\n",
       "      <td>353.1688</td>\n",
       "      <td>7.016729</td>\n",
       "      <td>315.8626</td>\n",
       "      <td>6.054836</td>\n",
       "      <td>354.4484</td>\n",
       "      <td>314.7863</td>\n",
       "    </tr>\n",
       "    <tr>\n",
       "      <th>3</th>\n",
       "      <td>-0.005430</td>\n",
       "      <td>1.587938</td>\n",
       "      <td>0.004776</td>\n",
       "      <td>28.18449</td>\n",
       "      <td>357.7346</td>\n",
       "      <td>1.250171</td>\n",
       "      <td>-0.278736</td>\n",
       "      <td>0.809936</td>\n",
       "      <td>-0.108116</td>\n",
       "      <td>351.8196</td>\n",
       "      <td>...</td>\n",
       "      <td>350.5227</td>\n",
       "      <td>27.17271</td>\n",
       "      <td>341.8486</td>\n",
       "      <td>337.9416</td>\n",
       "      <td>353.1716</td>\n",
       "      <td>7.013957</td>\n",
       "      <td>315.8050</td>\n",
       "      <td>6.054352</td>\n",
       "      <td>354.4488</td>\n",
       "      <td>314.7783</td>\n",
       "    </tr>\n",
       "    <tr>\n",
       "      <th>4</th>\n",
       "      <td>-0.005462</td>\n",
       "      <td>1.587839</td>\n",
       "      <td>0.004742</td>\n",
       "      <td>28.19781</td>\n",
       "      <td>357.7418</td>\n",
       "      <td>1.254437</td>\n",
       "      <td>-0.278807</td>\n",
       "      <td>0.810010</td>\n",
       "      <td>-0.107829</td>\n",
       "      <td>351.8105</td>\n",
       "      <td>...</td>\n",
       "      <td>350.8220</td>\n",
       "      <td>27.17937</td>\n",
       "      <td>341.8719</td>\n",
       "      <td>337.9523</td>\n",
       "      <td>353.1733</td>\n",
       "      <td>7.012261</td>\n",
       "      <td>315.7700</td>\n",
       "      <td>6.060657</td>\n",
       "      <td>354.4425</td>\n",
       "      <td>314.8842</td>\n",
       "    </tr>\n",
       "  </tbody>\n",
       "</table>\n",
       "<p>5 rows × 114 columns</p>\n",
       "</div>"
      ],
      "text/plain": [
       "    Head_pos_x   Head_pos_y   Head_pos_z   Head_rot_x   Head_rot_y  \\\n",
       "0    -0.005309     1.588150     0.004895     28.18738     357.7555   \n",
       "1    -0.005352     1.588086     0.004848     28.18189     357.7465   \n",
       "2    -0.005398     1.588020     0.004816     28.18045     357.7399   \n",
       "3    -0.005430     1.587938     0.004776     28.18449     357.7346   \n",
       "4    -0.005462     1.587839     0.004742     28.19781     357.7418   \n",
       "\n",
       "    Head_rot_z   LeftHand_pos_x   LeftHand_pos_y   LeftHand_pos_z  \\\n",
       "0     1.233561        -0.278133         0.810004        -0.108239   \n",
       "1     1.248143        -0.278401         0.809932        -0.108324   \n",
       "2     1.260971        -0.278663         0.809862        -0.108401   \n",
       "3     1.250171        -0.278736         0.809936        -0.108116   \n",
       "4     1.254437        -0.278807         0.810010        -0.107829   \n",
       "\n",
       "    LeftHand_rot_x  ...   RightRing3_rot_z   RightThumb1_rot_x  \\\n",
       "0         351.7242  ...           350.1419            27.19806   \n",
       "1         351.7806  ...           350.2690            27.18621   \n",
       "2         351.8357  ...           350.3961            27.17978   \n",
       "3         351.8196  ...           350.5227            27.17271   \n",
       "4         351.8105  ...           350.8220            27.17937   \n",
       "\n",
       "    RightThumb1_rot_y   RightThumb1_rot_z   RightThumb2_rot_x  \\\n",
       "0            341.7921            337.9047            353.1641   \n",
       "1            341.7753            337.8988            353.1659   \n",
       "2            341.8129            337.9211            353.1688   \n",
       "3            341.8486            337.9416            353.1716   \n",
       "4            341.8719            337.9523            353.1733   \n",
       "\n",
       "    RightThumb2_rot_y   RightThumb2_rot_z   RightThumb3_rot_x  \\\n",
       "0            7.021258            315.9565            6.055505   \n",
       "1            7.019536            315.9209            6.055294   \n",
       "2            7.016729            315.8626            6.054836   \n",
       "3            7.013957            315.8050            6.054352   \n",
       "4            7.012261            315.7700            6.060657   \n",
       "\n",
       "    RightThumb3_rot_y   RightThumb3_rot_z  \n",
       "0            354.4477            314.7976  \n",
       "1            354.4479            314.7942  \n",
       "2            354.4484            314.7863  \n",
       "3            354.4488            314.7783  \n",
       "4            354.4425            314.8842  \n",
       "\n",
       "[5 rows x 114 columns]"
      ]
     },
     "execution_count": 5,
     "metadata": {},
     "output_type": "execute_result"
    }
   ],
   "source": [
    "pd_data[0].head()"
   ]
  },
  {
   "cell_type": "markdown",
   "metadata": {},
   "source": [
    "### From Pandas to Numpy\n",
    "\n",
    "For ease of use, we will convert the Pandas dataframe to a Numpy array. This will allow us to use the data with PyTorch, thus creating tensors with more simplicity."
   ]
  },
  {
   "cell_type": "code",
   "execution_count": 6,
   "metadata": {},
   "outputs": [],
   "source": [
    "data: np.ndarray = Data.convert_to_numpy(pd_data)\n",
    "# data: np.ndarray = Data.truncate_to_numpy(pd_data)"
   ]
  },
  {
   "cell_type": "markdown",
   "metadata": {},
   "source": [
    "## Settings and hyperparameters ..."
   ]
  },
  {
   "cell_type": "markdown",
   "metadata": {},
   "source": [
    "Here we define the **settings** and **hyperparameters** for the model. Here are the ones we will use for our use case:\n",
    "* Device: the device on which the model will be trained. We will use a GPU if available, otherwise we will use the CPU.\n",
    "* Batch size: the number of samples that will be propagated through the network at once.\n",
    "* Number of epochs: the number of times the entire dataset will be passed through the network.\n",
    "* Learning rate: the step size at each iteration while moving toward a minimum of a loss function.\n",
    "* Hidden size: the size of the hidden layer in the fully connected part of the network.\n",
    "* Number of labels: the number of labels in the dataset."
   ]
  },
  {
   "cell_type": "code",
   "execution_count": 7,
   "metadata": {},
   "outputs": [],
   "source": [
    "DEVICE = Hardware.device()\n",
    "BATCH_SIZE = 16\n",
    "EPOCHS = 50\n",
    "LEARNING_RATE = 1e-4\n",
    "HIDDEN_SIZE = 128\n",
    "NUM_LABELS = classes.shape[0]\n",
    "\n",
    "# Loss function\n",
    "loss_fn = nn.CrossEntropyLoss()"
   ]
  },
  {
   "cell_type": "markdown",
   "metadata": {},
   "source": [
    "## Model - Convolutional Neural Network"
   ]
  },
  {
   "cell_type": "markdown",
   "metadata": {},
   "source": [
    "### Reproducibilty - PyTorch seed\n",
    "\n",
    "As we want to be able to reproduce our results, we need to set the seed for the random number generator of PyTorch. This is especially important for the initialization of the weights of the neural network."
   ]
  },
  {
   "cell_type": "code",
   "execution_count": 8,
   "metadata": {},
   "outputs": [
    {
     "data": {
      "text/plain": [
       "<torch._C.Generator at 0x29b9708b0>"
      ]
     },
     "execution_count": 8,
     "metadata": {},
     "output_type": "execute_result"
    }
   ],
   "source": [
    "torch.manual_seed(16)"
   ]
  },
  {
   "cell_type": "markdown",
   "metadata": {},
   "source": [
    "### Training"
   ]
  },
  {
   "cell_type": "code",
   "execution_count": 9,
   "metadata": {},
   "outputs": [
    {
     "name": "stdout",
     "output_type": "stream",
     "text": [
      "----------------------------------------------------------------\n",
      "        Layer (type)               Output Shape         Param #\n",
      "================================================================\n",
      "            Conv2d-1          [-1, 32, 72, 114]             320\n",
      "              ReLU-2          [-1, 32, 72, 114]               0\n",
      "         MaxPool2d-3           [-1, 32, 36, 57]               0\n",
      "            Conv2d-4           [-1, 32, 36, 57]           9,248\n",
      "              ReLU-5           [-1, 32, 36, 57]               0\n",
      "         MaxPool2d-6           [-1, 32, 18, 28]               0\n",
      "            Conv2d-7           [-1, 64, 18, 28]          18,496\n",
      "              ReLU-8           [-1, 64, 18, 28]               0\n",
      "         MaxPool2d-9            [-1, 64, 9, 14]               0\n",
      "           Conv2d-10            [-1, 64, 9, 14]          36,928\n",
      "             ReLU-11            [-1, 64, 9, 14]               0\n",
      "        MaxPool2d-12             [-1, 64, 4, 7]               0\n",
      "          Dropout-13             [-1, 64, 4, 7]               0\n",
      "          Flatten-14                 [-1, 1792]               0\n",
      "           Linear-15                  [-1, 128]         229,504\n",
      "             ReLU-16                  [-1, 128]               0\n",
      "           Linear-17                   [-1, 64]           8,256\n",
      "             ReLU-18                   [-1, 64]               0\n",
      "           Linear-19                    [-1, 4]             260\n",
      "          Softmax-20                    [-1, 4]               0\n",
      "================================================================\n",
      "Total params: 303,012\n",
      "Trainable params: 303,012\n",
      "Non-trainable params: 0\n",
      "----------------------------------------------------------------\n",
      "Input size (MB): 0.03\n",
      "Forward/backward pass size (MB): 6.35\n",
      "Params size (MB): 1.16\n",
      "Estimated Total Size (MB): 7.54\n",
      "----------------------------------------------------------------\n"
     ]
    }
   ],
   "source": [
    "gesture_recognizer = VRGestureRecognizer(hidden_size=HIDDEN_SIZE, num_classes=NUM_LABELS)\n",
    "summary(gesture_recognizer, np.expand_dims(data[0], 0).shape)"
   ]
  },
  {
   "cell_type": "code",
   "execution_count": 10,
   "metadata": {},
   "outputs": [
    {
     "data": {
      "application/vnd.jupyter.widget-view+json": {
       "model_id": "163c9ab7ffdf440caef0d3d1f76cb321",
       "version_major": 2,
       "version_minor": 0
      },
      "text/plain": [
       "  0%|          | 0/50 [00:00<?, ?it/s]"
      ]
     },
     "metadata": {},
     "output_type": "display_data"
    },
    {
     "name": "stdout",
     "output_type": "stream",
     "text": [
      "Epoch [50/50] | Loss: 0.74 | Accuracy: 0.90 | Val Loss: 0.75 | Val Accuracy: 1.00\r"
     ]
    },
    {
     "data": {
      "image/png": "[encoded data removed]",
      "text/plain": [
       "<Figure size 2000x500 with 2 Axes>"
      ]
     },
     "metadata": {},
     "output_type": "display_data"
    }
   ],
   "source": [
    "gesture_recognizer = gesture_recognizer.to(Hardware.device(), dtype=torch.float32)\n",
    "\n",
    "X_train, X_test, y_train, y_test = train_test_split(data, labels, test_size=0.2, random_state=42)\n",
    "X_train, X_val, y_train, y_val = train_test_split(X_train, y_train, test_size=0.1, random_state=42)\n",
    "\n",
    "gesture_recognizer.compile(loss_fn)\n",
    "training_history = gesture_recognizer.fit(X_train, y_train, X_val, y_val, epochs=EPOCHS, batch_size=BATCH_SIZE, learning_rate=LEARNING_RATE)\n",
    "\n",
    "gesture_recognizer.plot_history()"
   ]
  },
  {
   "cell_type": "markdown",
   "metadata": {},
   "source": [
    "### Evaluation"
   ]
  },
  {
   "cell_type": "markdown",
   "metadata": {},
   "source": [
    "We can now evaluate the model on the test set. We will use the accuracy and the loss of the model as metrics."
   ]
  },
  {
   "cell_type": "code",
   "execution_count": 11,
   "metadata": {},
   "outputs": [
    {
     "name": "stdout",
     "output_type": "stream",
     "text": [
      "Loss: 0.74 | Accuracy: 100.00%\n"
     ]
    }
   ],
   "source": [
    "test_loss, test_accuracy = gesture_recognizer.to(Hardware.device()).evaluate(X_test, y_test)\n",
    "print(f\"Loss: {test_loss.item():.2f} | Accuracy: {test_accuracy * 100:.2f}%\")"
   ]
  },
  {
   "cell_type": "markdown",
   "metadata": {},
   "source": [
    "### Results"
   ]
  },
  {
   "cell_type": "markdown",
   "metadata": {},
   "source": [
    "Let's first make predictions on our test set."
   ]
  },
  {
   "cell_type": "code",
   "execution_count": 12,
   "metadata": {},
   "outputs": [],
   "source": [
    "y_pred = gesture_recognizer.to(Hardware.device()).predict(X_test).cpu().numpy().astype(dtype=np.int32)"
   ]
  },
  {
   "cell_type": "markdown",
   "metadata": {},
   "source": [
    "#### Confusion matrix"
   ]
  },
  {
   "cell_type": "code",
   "execution_count": 13,
   "metadata": {},
   "outputs": [
    {
     "data": {
      "image/png": "[encoded data removed]",
      "text/plain": [
       "<Figure size 600x500 with 2 Axes>"
      ]
     },
     "metadata": {},
     "output_type": "display_data"
    }
   ],
   "source": [
    "gesture_recognizer_confusion_matrix = confusion_matrix(y_test, y_pred)\n",
    "Plot.plot_confusion_matrix(gesture_recognizer_confusion_matrix, fig_size=(6, 5))"
   ]
  },
  {
   "cell_type": "markdown",
   "metadata": {},
   "source": [
    "#### Classification report"
   ]
  },
  {
   "cell_type": "code",
   "execution_count": 14,
   "metadata": {},
   "outputs": [
    {
     "name": "stdout",
     "output_type": "stream",
     "text": [
      "              precision    recall  f1-score   support\n",
      "\n",
      "         OUI       1.00      1.00      1.00         6\n",
      "         NON       1.00      1.00      1.00         6\n",
      "        VRAI       1.00      1.00      1.00         3\n",
      "        FAUX       1.00      1.00      1.00         5\n",
      "\n",
      "    accuracy                           1.00        20\n",
      "   macro avg       1.00      1.00      1.00        20\n",
      "weighted avg       1.00      1.00      1.00        20\n",
      "\n"
     ]
    }
   ],
   "source": [
    "print(classification_report(y_test, y_pred, target_names=classes, zero_division=0))"
   ]
  },
  {
   "cell_type": "markdown",
   "metadata": {},
   "source": [
    "### Exporting the model"
   ]
  },
  {
   "cell_type": "markdown",
   "metadata": {},
   "source": [
    "Before exporting the model, we will first clean the model saving directory."
   ]
  },
  {
   "cell_type": "code",
   "execution_count": 15,
   "metadata": {},
   "outputs": [],
   "source": [
    "if os.path.exists('models'):\n",
    "    for f in os.listdir('models'):\n",
    "        os.remove(os.path.join('models', f))\n",
    "else:\n",
    "    os.mkdir('models')"
   ]
  },
  {
   "cell_type": "code",
   "execution_count": 16,
   "metadata": {},
   "outputs": [
    {
     "name": "stdout",
     "output_type": "stream",
     "text": [
      "================ Diagnostic Run torch.onnx.export version 2.0.0 ================\n",
      "verbose: False, log level: Level.ERROR\n",
      "======================= 0 NONE 0 NOTE 0 WARNING 0 ERROR ========================\n",
      "\n"
     ]
    }
   ],
   "source": [
    "gesture_recognizer.export_to_onnx(path='models/vr_gesture_recognizer.onnx', data_shape=data.shape[1:])"
   ]
  },
  {
   "cell_type": "markdown",
   "metadata": {},
   "source": [
    "### Resetting datasets"
   ]
  },
  {
   "cell_type": "code",
   "execution_count": 17,
   "metadata": {},
   "outputs": [],
   "source": [
    "X_train, X_test, y_train, y_test = train_test_split(data, labels, test_size=0.2, random_state=16)"
   ]
  },
  {
   "cell_type": "markdown",
   "metadata": {},
   "source": [
    "## XGBoost - Extreme Gradient Boosting"
   ]
  },
  {
   "cell_type": "markdown",
   "metadata": {},
   "source": [
    "### Model initialization"
   ]
  },
  {
   "cell_type": "code",
   "execution_count": 18,
   "metadata": {},
   "outputs": [],
   "source": [
    "xgb_classifier = XGBClassifier(\n",
    "    n_estimators=100,\n",
    "    max_depth=128,\n",
    "    learning_rate=0.1,\n",
    "    objective='multi:softmax',\n",
    "    num_class=classes.shape[0]\n",
    ")"
   ]
  },
  {
   "cell_type": "markdown",
   "metadata": {},
   "source": [
    "### Cross validation"
   ]
  },
  {
   "cell_type": "code",
   "execution_count": 19,
   "metadata": {},
   "outputs": [
    {
     "name": "stdout",
     "output_type": "stream",
     "text": [
      "Cross validation mean accuracy: 97.50%\n",
      "\n"
     ]
    }
   ],
   "source": [
    "kFold = KFold(n_splits=5, shuffle=True, random_state=20)\n",
    "scores = cross_val_score(xgb_classifier, X_train.reshape(X_train.shape[0], -1), y_train, cv=kFold, scoring='accuracy')\n",
    "\n",
    "print(f\"Cross validation mean accuracy: {scores.mean() * 100:.2f}%\\n\")"
   ]
  },
  {
   "cell_type": "markdown",
   "metadata": {},
   "source": [
    "### Train and predict"
   ]
  },
  {
   "cell_type": "code",
   "execution_count": 20,
   "metadata": {},
   "outputs": [],
   "source": [
    "xgb_classifier.fit(X_train.reshape(X_train.shape[0], -1), y_train)\n",
    "y_pred = xgb_classifier.predict(X_test.reshape(X_test.shape[0], -1))"
   ]
  },
  {
   "cell_type": "markdown",
   "metadata": {},
   "source": [
    "### Results"
   ]
  },
  {
   "cell_type": "markdown",
   "metadata": {},
   "source": [
    "#### Confusion matrix (heatmap)"
   ]
  },
  {
   "cell_type": "code",
   "execution_count": 21,
   "metadata": {},
   "outputs": [
    {
     "data": {
      "image/png": "[encoded data removed]",
      "text/plain": [
       "<Figure size 600x500 with 2 Axes>"
      ]
     },
     "metadata": {},
     "output_type": "display_data"
    }
   ],
   "source": [
    "xgb_confusion_matrix = confusion_matrix(y_test, y_pred)\n",
    "Plot.plot_confusion_matrix(xgb_confusion_matrix, fig_size=(6, 5))"
   ]
  },
  {
   "cell_type": "markdown",
   "metadata": {},
   "source": [
    "#### Classification report"
   ]
  },
  {
   "cell_type": "code",
   "execution_count": 22,
   "metadata": {},
   "outputs": [
    {
     "name": "stdout",
     "output_type": "stream",
     "text": [
      "              precision    recall  f1-score   support\n",
      "\n",
      "         OUI       1.00      1.00      1.00         3\n",
      "         NON       1.00      1.00      1.00         5\n",
      "        VRAI       1.00      1.00      1.00         8\n",
      "        FAUX       1.00      1.00      1.00         4\n",
      "\n",
      "    accuracy                           1.00        20\n",
      "   macro avg       1.00      1.00      1.00        20\n",
      "weighted avg       1.00      1.00      1.00        20\n",
      "\n"
     ]
    }
   ],
   "source": [
    "print(classification_report(y_test, y_pred, target_names=classes, zero_division=0))"
   ]
  },
  {
   "cell_type": "code",
   "execution_count": 23,
   "metadata": {},
   "outputs": [],
   "source": [
    "ModelUtils.save_sklearn_model_to_onnx(\n",
    "    xgb_classifier,\n",
    "    path='models/xgb_gesture_recognizer.onnx',\n",
    "    data_shape=data.shape[1:],\n",
    "    is_xgboost=True\n",
    ")"
   ]
  },
  {
   "cell_type": "markdown",
   "metadata": {},
   "source": [
    "## Random Forest Classifier"
   ]
  },
  {
   "cell_type": "markdown",
   "metadata": {},
   "source": [
    "### Model initialization"
   ]
  },
  {
   "cell_type": "code",
   "execution_count": 24,
   "metadata": {},
   "outputs": [],
   "source": [
    "rf_classifier = RandomForestClassifier(\n",
    "    n_estimators=100,\n",
    "    max_depth=64,\n",
    "    class_weight='balanced',\n",
    "    random_state=16\n",
    ")"
   ]
  },
  {
   "cell_type": "markdown",
   "metadata": {},
   "source": [
    "### Cross Validation"
   ]
  },
  {
   "cell_type": "code",
   "execution_count": 25,
   "metadata": {},
   "outputs": [
    {
     "name": "stdout",
     "output_type": "stream",
     "text": [
      "Cross validation mean accuracy: 100.00%\n",
      "\n"
     ]
    }
   ],
   "source": [
    "kFold = KFold(n_splits=5, shuffle=True, random_state=10)\n",
    "scores = cross_val_score(rf_classifier, X_train.reshape(X_train.shape[0], -1), y_train, cv=kFold, scoring='accuracy')\n",
    "\n",
    "print(f\"Cross validation mean accuracy: {scores.mean() * 100:.2f}%\\n\")"
   ]
  },
  {
   "cell_type": "code",
   "execution_count": 26,
   "metadata": {},
   "outputs": [
    {
     "data": {
      "image/png": "[encoded data removed]",
      "text/plain": [
       "<Figure size 1000x500 with 1 Axes>"
      ]
     },
     "metadata": {},
     "output_type": "display_data"
    }
   ],
   "source": [
    "_, ax = plt.subplots(figsize=(10, 5))\n",
    "LearningCurveDisplay.from_estimator(\n",
    "    rf_classifier,\n",
    "    data.reshape(data.shape[0], -1),\n",
    "    labels,\n",
    "    cv= ShuffleSplit(n_splits=50, test_size=0.2, random_state=0),\n",
    "    scoring='accuracy',\n",
    "    n_jobs=-1,\n",
    "    train_sizes=np.linspace(0.01, 1.0, 5),\n",
    "    ax=ax\n",
    ")\n",
    "plt.show()"
   ]
  },
  {
   "cell_type": "markdown",
   "metadata": {},
   "source": [
    "### Train and predict"
   ]
  },
  {
   "cell_type": "code",
   "execution_count": 27,
   "metadata": {},
   "outputs": [],
   "source": [
    "rf_classifier.fit(X_train.reshape(X_train.shape[0], -1), y_train)\n",
    "y_pred = rf_classifier.predict(X_test.reshape(X_test.shape[0], -1))"
   ]
  },
  {
   "cell_type": "markdown",
   "metadata": {},
   "source": [
    "### Results"
   ]
  },
  {
   "cell_type": "markdown",
   "metadata": {},
   "source": [
    "#### Confusion matrix (heatmap)"
   ]
  },
  {
   "cell_type": "code",
   "execution_count": 28,
   "metadata": {},
   "outputs": [
    {
     "data": {
      "image/png": "[encoded data removed]",
      "text/plain": [
       "<Figure size 600x500 with 2 Axes>"
      ]
     },
     "metadata": {},
     "output_type": "display_data"
    }
   ],
   "source": [
    "rf_confusion_matrix = confusion_matrix(y_test, y_pred)\n",
    "Plot.plot_confusion_matrix(rf_confusion_matrix, fig_size=(6, 5))"
   ]
  },
  {
   "cell_type": "markdown",
   "metadata": {},
   "source": [
    "#### Classification report"
   ]
  },
  {
   "cell_type": "code",
   "execution_count": 29,
   "metadata": {},
   "outputs": [
    {
     "name": "stdout",
     "output_type": "stream",
     "text": [
      "              precision    recall  f1-score   support\n",
      "\n",
      "         OUI       1.00      1.00      1.00         3\n",
      "         NON       1.00      1.00      1.00         5\n",
      "        VRAI       1.00      1.00      1.00         8\n",
      "        FAUX       1.00      1.00      1.00         4\n",
      "\n",
      "    accuracy                           1.00        20\n",
      "   macro avg       1.00      1.00      1.00        20\n",
      "weighted avg       1.00      1.00      1.00        20\n",
      "\n"
     ]
    }
   ],
   "source": [
    "print(classification_report(y_test, y_pred, target_names=classes, zero_division=0))"
   ]
  },
  {
   "cell_type": "markdown",
   "metadata": {},
   "source": [
    "### Save / Export the model"
   ]
  },
  {
   "cell_type": "code",
   "execution_count": 30,
   "metadata": {},
   "outputs": [],
   "source": [
    "ModelUtils.save_sklearn_model_to_onnx(rf_classifier, path='models/random_forest.onnx', data_shape=data.shape[1:])"
   ]
  },
  {
   "cell_type": "markdown",
   "metadata": {},
   "source": [
    "## Decision Tree Classifier"
   ]
  },
  {
   "cell_type": "markdown",
   "metadata": {},
   "source": [
    "### Model initialization"
   ]
  },
  {
   "cell_type": "code",
   "execution_count": 31,
   "metadata": {},
   "outputs": [],
   "source": [
    "dt_classifier = DecisionTreeClassifier(\n",
    "    criterion='entropy',\n",
    "    max_depth=128,\n",
    "    class_weight='balanced',\n",
    "    random_state=42\n",
    ")"
   ]
  },
  {
   "cell_type": "markdown",
   "metadata": {},
   "source": [
    "### Cross Validation"
   ]
  },
  {
   "cell_type": "code",
   "execution_count": 32,
   "metadata": {},
   "outputs": [
    {
     "name": "stdout",
     "output_type": "stream",
     "text": [
      "Cross validation mean accuracy: 98.75%\n",
      "\n"
     ]
    }
   ],
   "source": [
    "kFold = KFold(n_splits=5, shuffle=True, random_state=10)\n",
    "scores = cross_val_score(dt_classifier, X_train.reshape(X_train.shape[0], -1), y_train, cv=kFold, scoring='accuracy')\n",
    "\n",
    "print(f\"Cross validation mean accuracy: {scores.mean() * 100:.2f}%\\n\")"
   ]
  },
  {
   "cell_type": "code",
   "execution_count": 33,
   "metadata": {},
   "outputs": [
    {
     "data": {
      "image/png": "[encoded data removed]",
      "text/plain": [
       "<Figure size 1000x500 with 1 Axes>"
      ]
     },
     "metadata": {},
     "output_type": "display_data"
    }
   ],
   "source": [
    "_, ax = plt.subplots(figsize=(10, 5))\n",
    "LearningCurveDisplay.from_estimator(\n",
    "    dt_classifier,\n",
    "    data.reshape(data.shape[0], -1),\n",
    "    labels,\n",
    "    cv= ShuffleSplit(n_splits=50, test_size=0.2, random_state=0),\n",
    "    scoring='accuracy',\n",
    "    n_jobs=-1,\n",
    "    train_sizes=np.linspace(0.01, 1.0, 5),\n",
    "    ax=ax\n",
    ")\n",
    "plt.show()"
   ]
  },
  {
   "cell_type": "markdown",
   "metadata": {},
   "source": [
    "### Train and predict"
   ]
  },
  {
   "cell_type": "code",
   "execution_count": 34,
   "metadata": {},
   "outputs": [],
   "source": [
    "dt_classifier.fit(X_train.reshape(X_train.shape[0], -1), y_train)\n",
    "y_pred = dt_classifier.predict(X_test.reshape(X_test.shape[0], -1))"
   ]
  },
  {
   "cell_type": "markdown",
   "metadata": {},
   "source": [
    "### Results"
   ]
  },
  {
   "cell_type": "markdown",
   "metadata": {},
   "source": [
    "#### Confusion matrix (heatmap)"
   ]
  },
  {
   "cell_type": "code",
   "execution_count": 35,
   "metadata": {},
   "outputs": [
    {
     "data": {
      "image/png": "[encoded data removed]",
      "text/plain": [
       "<Figure size 600x500 with 2 Axes>"
      ]
     },
     "metadata": {},
     "output_type": "display_data"
    }
   ],
   "source": [
    "dt_confusion_matrix = confusion_matrix(y_test, y_pred)\n",
    "Plot.plot_confusion_matrix(dt_confusion_matrix, fig_size=(6, 5))"
   ]
  },
  {
   "cell_type": "markdown",
   "metadata": {},
   "source": [
    "#### Classification report"
   ]
  },
  {
   "cell_type": "code",
   "execution_count": 36,
   "metadata": {},
   "outputs": [
    {
     "name": "stdout",
     "output_type": "stream",
     "text": [
      "              precision    recall  f1-score   support\n",
      "\n",
      "         OUI       1.00      1.00      1.00         3\n",
      "         NON       1.00      1.00      1.00         5\n",
      "        VRAI       1.00      1.00      1.00         8\n",
      "        FAUX       1.00      1.00      1.00         4\n",
      "\n",
      "    accuracy                           1.00        20\n",
      "   macro avg       1.00      1.00      1.00        20\n",
      "weighted avg       1.00      1.00      1.00        20\n",
      "\n"
     ]
    }
   ],
   "source": [
    "print(classification_report(y_test, y_pred, target_names=classes, zero_division=0))"
   ]
  },
  {
   "cell_type": "markdown",
   "metadata": {},
   "source": [
    "### Save / Export the model"
   ]
  },
  {
   "cell_type": "code",
   "execution_count": 37,
   "metadata": {},
   "outputs": [],
   "source": [
    "ModelUtils.save_sklearn_model_to_onnx(dt_classifier, path='models/decision_tree.onnx', data_shape=data.shape[1:])"
   ]
  },
  {
   "cell_type": "markdown",
   "metadata": {},
   "source": [
    "## Time Execution"
   ]
  },
  {
   "cell_type": "code",
   "execution_count": 38,
   "metadata": {},
   "outputs": [
    {
     "name": "stdout",
     "output_type": "stream",
     "text": [
      "--- 0 minutes, 20 seconds ---\n"
     ]
    }
   ],
   "source": [
    "end_time = time.time()\n",
    "print(f\"--- {int((end_time - start_time) / 60)} minutes, {int((end_time - start_time) % 60)} seconds ---\")"
   ]
  }
 ],
 "metadata": {
  "kernelspec": {
   "display_name": "SCIA",
   "language": "python",
   "name": "python3"
  },
  "language_info": {
   "codemirror_mode": {
    "name": "ipython",
    "version": 3
   },
   "file_extension": ".py",
   "mimetype": "text/x-python",
   "name": "python",
   "nbconvert_exporter": "python",
   "pygments_lexer": "ipython3",
   "version": "3.10.4"
  },
  "orig_nbformat": 4
 },
 "nbformat": 4,
 "nbformat_minor": 2
}
